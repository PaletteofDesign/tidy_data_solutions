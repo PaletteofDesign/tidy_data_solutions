{
 "cells": [
  {
   "cell_type": "code",
   "execution_count": 1,
   "outputs": [],
   "source": [
    "import numpy as np\n",
    "import pandas as pd"
   ],
   "metadata": {
    "collapsed": false,
    "pycharm": {
     "name": "#%%\n"
    }
   }
  },
  {
   "cell_type": "code",
   "execution_count": 2,
   "outputs": [
    {
     "data": {
      "text/plain": "  Country Name Country Code     Indicator Name  Indicator Code          1960  \\\n0        Aruba          ABW  GDP (current US$)  NY.GDP.MKTP.CD           NaN   \n1  Afghanistan          AFG  GDP (current US$)  NY.GDP.MKTP.CD  5.377778e+08   \n2       Angola          AGO  GDP (current US$)  NY.GDP.MKTP.CD           NaN   \n3      Albania          ALB  GDP (current US$)  NY.GDP.MKTP.CD           NaN   \n4      Andorra          AND  GDP (current US$)  NY.GDP.MKTP.CD           NaN   \n\n           1961          1962          1963          1964          1965  ...  \\\n0           NaN           NaN           NaN           NaN           NaN  ...   \n1  5.488889e+08  5.466667e+08  7.511112e+08  8.000000e+08  1.006667e+09  ...   \n2           NaN           NaN           NaN           NaN           NaN  ...   \n3           NaN           NaN           NaN           NaN           NaN  ...   \n4           NaN           NaN           NaN           NaN           NaN  ...   \n\n           2009          2010          2011          2012          2013  \\\n0  2.498933e+09  2.467704e+09  2.584464e+09           NaN           NaN   \n1  1.248694e+10  1.593680e+10  1.793024e+10  2.053654e+10  2.026425e+10   \n2  7.549239e+10  8.252614e+10  1.041158e+11  1.139232e+11  1.249125e+11   \n3  1.204421e+10  1.192695e+10  1.289087e+10  1.231978e+10  1.277628e+10   \n4  3.660531e+09  3.355695e+09  3.442063e+09  3.164615e+09  3.281585e+09   \n\n           2014          2015          2016          2017  Unnamed: 62  \n0           NaN           NaN           NaN           NaN          NaN  \n1  2.061610e+10  1.921556e+10  1.946902e+10  2.081530e+10          NaN  \n2  1.267302e+11  1.026212e+11  9.533720e+10  1.242094e+11          NaN  \n3  1.322824e+10  1.138693e+10  1.188368e+10  1.303935e+10          NaN  \n4  3.350736e+09  2.811489e+09  2.877312e+09  3.012914e+09          NaN  \n\n[5 rows x 63 columns]",
      "text/html": "<div>\n<style scoped>\n    .dataframe tbody tr th:only-of-type {\n        vertical-align: middle;\n    }\n\n    .dataframe tbody tr th {\n        vertical-align: top;\n    }\n\n    .dataframe thead th {\n        text-align: right;\n    }\n</style>\n<table border=\"1\" class=\"dataframe\">\n  <thead>\n    <tr style=\"text-align: right;\">\n      <th></th>\n      <th>Country Name</th>\n      <th>Country Code</th>\n      <th>Indicator Name</th>\n      <th>Indicator Code</th>\n      <th>1960</th>\n      <th>1961</th>\n      <th>1962</th>\n      <th>1963</th>\n      <th>1964</th>\n      <th>1965</th>\n      <th>...</th>\n      <th>2009</th>\n      <th>2010</th>\n      <th>2011</th>\n      <th>2012</th>\n      <th>2013</th>\n      <th>2014</th>\n      <th>2015</th>\n      <th>2016</th>\n      <th>2017</th>\n      <th>Unnamed: 62</th>\n    </tr>\n  </thead>\n  <tbody>\n    <tr>\n      <th>0</th>\n      <td>Aruba</td>\n      <td>ABW</td>\n      <td>GDP (current US$)</td>\n      <td>NY.GDP.MKTP.CD</td>\n      <td>NaN</td>\n      <td>NaN</td>\n      <td>NaN</td>\n      <td>NaN</td>\n      <td>NaN</td>\n      <td>NaN</td>\n      <td>...</td>\n      <td>2.498933e+09</td>\n      <td>2.467704e+09</td>\n      <td>2.584464e+09</td>\n      <td>NaN</td>\n      <td>NaN</td>\n      <td>NaN</td>\n      <td>NaN</td>\n      <td>NaN</td>\n      <td>NaN</td>\n      <td>NaN</td>\n    </tr>\n    <tr>\n      <th>1</th>\n      <td>Afghanistan</td>\n      <td>AFG</td>\n      <td>GDP (current US$)</td>\n      <td>NY.GDP.MKTP.CD</td>\n      <td>5.377778e+08</td>\n      <td>5.488889e+08</td>\n      <td>5.466667e+08</td>\n      <td>7.511112e+08</td>\n      <td>8.000000e+08</td>\n      <td>1.006667e+09</td>\n      <td>...</td>\n      <td>1.248694e+10</td>\n      <td>1.593680e+10</td>\n      <td>1.793024e+10</td>\n      <td>2.053654e+10</td>\n      <td>2.026425e+10</td>\n      <td>2.061610e+10</td>\n      <td>1.921556e+10</td>\n      <td>1.946902e+10</td>\n      <td>2.081530e+10</td>\n      <td>NaN</td>\n    </tr>\n    <tr>\n      <th>2</th>\n      <td>Angola</td>\n      <td>AGO</td>\n      <td>GDP (current US$)</td>\n      <td>NY.GDP.MKTP.CD</td>\n      <td>NaN</td>\n      <td>NaN</td>\n      <td>NaN</td>\n      <td>NaN</td>\n      <td>NaN</td>\n      <td>NaN</td>\n      <td>...</td>\n      <td>7.549239e+10</td>\n      <td>8.252614e+10</td>\n      <td>1.041158e+11</td>\n      <td>1.139232e+11</td>\n      <td>1.249125e+11</td>\n      <td>1.267302e+11</td>\n      <td>1.026212e+11</td>\n      <td>9.533720e+10</td>\n      <td>1.242094e+11</td>\n      <td>NaN</td>\n    </tr>\n    <tr>\n      <th>3</th>\n      <td>Albania</td>\n      <td>ALB</td>\n      <td>GDP (current US$)</td>\n      <td>NY.GDP.MKTP.CD</td>\n      <td>NaN</td>\n      <td>NaN</td>\n      <td>NaN</td>\n      <td>NaN</td>\n      <td>NaN</td>\n      <td>NaN</td>\n      <td>...</td>\n      <td>1.204421e+10</td>\n      <td>1.192695e+10</td>\n      <td>1.289087e+10</td>\n      <td>1.231978e+10</td>\n      <td>1.277628e+10</td>\n      <td>1.322824e+10</td>\n      <td>1.138693e+10</td>\n      <td>1.188368e+10</td>\n      <td>1.303935e+10</td>\n      <td>NaN</td>\n    </tr>\n    <tr>\n      <th>4</th>\n      <td>Andorra</td>\n      <td>AND</td>\n      <td>GDP (current US$)</td>\n      <td>NY.GDP.MKTP.CD</td>\n      <td>NaN</td>\n      <td>NaN</td>\n      <td>NaN</td>\n      <td>NaN</td>\n      <td>NaN</td>\n      <td>NaN</td>\n      <td>...</td>\n      <td>3.660531e+09</td>\n      <td>3.355695e+09</td>\n      <td>3.442063e+09</td>\n      <td>3.164615e+09</td>\n      <td>3.281585e+09</td>\n      <td>3.350736e+09</td>\n      <td>2.811489e+09</td>\n      <td>2.877312e+09</td>\n      <td>3.012914e+09</td>\n      <td>NaN</td>\n    </tr>\n  </tbody>\n</table>\n<p>5 rows × 63 columns</p>\n</div>"
     },
     "execution_count": 2,
     "metadata": {},
     "output_type": "execute_result"
    }
   ],
   "source": [
    "f = '/home/spid3r404/Documents/data_science/data/GDP.csv'\n",
    "df = pd.read_csv(f, skiprows=4)\n",
    "df.head(5)"
   ],
   "metadata": {
    "collapsed": false,
    "pycharm": {
     "name": "#%%\n"
    }
   }
  },
  {
   "cell_type": "code",
   "execution_count": 3,
   "outputs": [
    {
     "data": {
      "text/plain": "Index(['Country Name', 'Country Code', 'Indicator Name', 'Indicator Code',\n       '1960', '1961', '1962', '1963', '1964', '1965', '1966', '1967', '1968',\n       '1969', '1970', '1971', '1972', '1973', '1974', '1975', '1976', '1977',\n       '1978', '1979', '1980', '1981', '1982', '1983', '1984', '1985', '1986',\n       '1987', '1988', '1989', '1990', '1991', '1992', '1993', '1994', '1995',\n       '1996', '1997', '1998', '1999', '2000', '2001', '2002', '2003', '2004',\n       '2005', '2006', '2007', '2008', '2009', '2010', '2011', '2012', '2013',\n       '2014', '2015', '2016', '2017', 'Unnamed: 62'],\n      dtype='object')"
     },
     "execution_count": 3,
     "metadata": {},
     "output_type": "execute_result"
    }
   ],
   "source": [
    "df.columns"
   ],
   "metadata": {
    "collapsed": false,
    "pycharm": {
     "name": "#%%\n"
    }
   }
  },
  {
   "cell_type": "code",
   "execution_count": 4,
   "outputs": [
    {
     "data": {
      "text/plain": "Country Name        0\nCountry Code        0\nIndicator Name      0\nIndicator Code      0\n1960              131\n                 ... \n2014               17\n2015               18\n2016               23\n2017               30\nUnnamed: 62       264\nLength: 63, dtype: int64"
     },
     "execution_count": 4,
     "metadata": {},
     "output_type": "execute_result"
    }
   ],
   "source": [
    "df.isnull().sum()"
   ],
   "metadata": {
    "collapsed": false,
    "pycharm": {
     "name": "#%%\n"
    }
   }
  },
  {
   "cell_type": "code",
   "execution_count": 5,
   "outputs": [
    {
     "name": "stdout",
     "output_type": "stream",
     "text": [
      "<class 'pandas.core.frame.DataFrame'>\n",
      "RangeIndex: 264 entries, 0 to 263\n",
      "Data columns (total 63 columns):\n",
      " #   Column          Non-Null Count  Dtype  \n",
      "---  ------          --------------  -----  \n",
      " 0   Country Name    264 non-null    object \n",
      " 1   Country Code    264 non-null    object \n",
      " 2   Indicator Name  264 non-null    object \n",
      " 3   Indicator Code  264 non-null    object \n",
      " 4   1960            133 non-null    float64\n",
      " 5   1961            133 non-null    float64\n",
      " 6   1962            135 non-null    float64\n",
      " 7   1963            135 non-null    float64\n",
      " 8   1964            135 non-null    float64\n",
      " 9   1965            145 non-null    float64\n",
      " 10  1966            146 non-null    float64\n",
      " 11  1967            149 non-null    float64\n",
      " 12  1968            153 non-null    float64\n",
      " 13  1969            153 non-null    float64\n",
      " 14  1970            162 non-null    float64\n",
      " 15  1971            163 non-null    float64\n",
      " 16  1972            163 non-null    float64\n",
      " 17  1973            163 non-null    float64\n",
      " 18  1974            164 non-null    float64\n",
      " 19  1975            168 non-null    float64\n",
      " 20  1976            169 non-null    float64\n",
      " 21  1977            173 non-null    float64\n",
      " 22  1978            172 non-null    float64\n",
      " 23  1979            173 non-null    float64\n",
      " 24  1980            185 non-null    float64\n",
      " 25  1981            188 non-null    float64\n",
      " 26  1982            189 non-null    float64\n",
      " 27  1983            190 non-null    float64\n",
      " 28  1984            191 non-null    float64\n",
      " 29  1985            193 non-null    float64\n",
      " 30  1986            195 non-null    float64\n",
      " 31  1987            199 non-null    float64\n",
      " 32  1988            201 non-null    float64\n",
      " 33  1989            205 non-null    float64\n",
      " 34  1990            221 non-null    float64\n",
      " 35  1991            221 non-null    float64\n",
      " 36  1992            222 non-null    float64\n",
      " 37  1993            226 non-null    float64\n",
      " 38  1994            228 non-null    float64\n",
      " 39  1995            236 non-null    float64\n",
      " 40  1996            237 non-null    float64\n",
      " 41  1997            236 non-null    float64\n",
      " 42  1998            238 non-null    float64\n",
      " 43  1999            239 non-null    float64\n",
      " 44  2000            245 non-null    float64\n",
      " 45  2001            245 non-null    float64\n",
      " 46  2002            249 non-null    float64\n",
      " 47  2003            249 non-null    float64\n",
      " 48  2004            250 non-null    float64\n",
      " 49  2005            250 non-null    float64\n",
      " 50  2006            251 non-null    float64\n",
      " 51  2007            251 non-null    float64\n",
      " 52  2008            249 non-null    float64\n",
      " 53  2009            249 non-null    float64\n",
      " 54  2010            249 non-null    float64\n",
      " 55  2011            250 non-null    float64\n",
      " 56  2012            247 non-null    float64\n",
      " 57  2013            248 non-null    float64\n",
      " 58  2014            247 non-null    float64\n",
      " 59  2015            246 non-null    float64\n",
      " 60  2016            241 non-null    float64\n",
      " 61  2017            234 non-null    float64\n",
      " 62  Unnamed: 62     0 non-null      float64\n",
      "dtypes: float64(59), object(4)\n",
      "memory usage: 130.1+ KB\n"
     ]
    }
   ],
   "source": [
    "df.info()"
   ],
   "metadata": {
    "collapsed": false,
    "pycharm": {
     "name": "#%%\n"
    }
   }
  },
  {
   "cell_type": "code",
   "execution_count": 6,
   "outputs": [
    {
     "data": {
      "text/plain": "NaN    264\nName: Unnamed: 62, dtype: int64"
     },
     "execution_count": 6,
     "metadata": {},
     "output_type": "execute_result"
    }
   ],
   "source": [
    "df['Unnamed: 62'].value_counts(dropna=False)"
   ],
   "metadata": {
    "collapsed": false,
    "pycharm": {
     "name": "#%%\n"
    }
   }
  },
  {
   "cell_type": "code",
   "execution_count": 7,
   "outputs": [
    {
     "data": {
      "text/plain": "  Country Name Country Code     Indicator Name  Indicator Code          1960  \\\n0        Aruba          ABW  GDP (current US$)  NY.GDP.MKTP.CD           NaN   \n1  Afghanistan          AFG  GDP (current US$)  NY.GDP.MKTP.CD  5.377778e+08   \n2       Angola          AGO  GDP (current US$)  NY.GDP.MKTP.CD           NaN   \n3      Albania          ALB  GDP (current US$)  NY.GDP.MKTP.CD           NaN   \n4      Andorra          AND  GDP (current US$)  NY.GDP.MKTP.CD           NaN   \n\n           1961          1962          1963          1964          1965  ...  \\\n0           NaN           NaN           NaN           NaN           NaN  ...   \n1  5.488889e+08  5.466667e+08  7.511112e+08  8.000000e+08  1.006667e+09  ...   \n2           NaN           NaN           NaN           NaN           NaN  ...   \n3           NaN           NaN           NaN           NaN           NaN  ...   \n4           NaN           NaN           NaN           NaN           NaN  ...   \n\n           2008          2009          2010          2011          2012  \\\n0  2.791961e+09  2.498933e+09  2.467704e+09  2.584464e+09           NaN   \n1  1.019053e+10  1.248694e+10  1.593680e+10  1.793024e+10  2.053654e+10   \n2  8.417804e+10  7.549239e+10  8.252614e+10  1.041158e+11  1.139232e+11   \n3  1.288135e+10  1.204421e+10  1.192695e+10  1.289087e+10  1.231978e+10   \n4  4.007353e+09  3.660531e+09  3.355695e+09  3.442063e+09  3.164615e+09   \n\n           2013          2014          2015          2016          2017  \n0           NaN           NaN           NaN           NaN           NaN  \n1  2.026425e+10  2.061610e+10  1.921556e+10  1.946902e+10  2.081530e+10  \n2  1.249125e+11  1.267302e+11  1.026212e+11  9.533720e+10  1.242094e+11  \n3  1.277628e+10  1.322824e+10  1.138693e+10  1.188368e+10  1.303935e+10  \n4  3.281585e+09  3.350736e+09  2.811489e+09  2.877312e+09  3.012914e+09  \n\n[5 rows x 62 columns]",
      "text/html": "<div>\n<style scoped>\n    .dataframe tbody tr th:only-of-type {\n        vertical-align: middle;\n    }\n\n    .dataframe tbody tr th {\n        vertical-align: top;\n    }\n\n    .dataframe thead th {\n        text-align: right;\n    }\n</style>\n<table border=\"1\" class=\"dataframe\">\n  <thead>\n    <tr style=\"text-align: right;\">\n      <th></th>\n      <th>Country Name</th>\n      <th>Country Code</th>\n      <th>Indicator Name</th>\n      <th>Indicator Code</th>\n      <th>1960</th>\n      <th>1961</th>\n      <th>1962</th>\n      <th>1963</th>\n      <th>1964</th>\n      <th>1965</th>\n      <th>...</th>\n      <th>2008</th>\n      <th>2009</th>\n      <th>2010</th>\n      <th>2011</th>\n      <th>2012</th>\n      <th>2013</th>\n      <th>2014</th>\n      <th>2015</th>\n      <th>2016</th>\n      <th>2017</th>\n    </tr>\n  </thead>\n  <tbody>\n    <tr>\n      <th>0</th>\n      <td>Aruba</td>\n      <td>ABW</td>\n      <td>GDP (current US$)</td>\n      <td>NY.GDP.MKTP.CD</td>\n      <td>NaN</td>\n      <td>NaN</td>\n      <td>NaN</td>\n      <td>NaN</td>\n      <td>NaN</td>\n      <td>NaN</td>\n      <td>...</td>\n      <td>2.791961e+09</td>\n      <td>2.498933e+09</td>\n      <td>2.467704e+09</td>\n      <td>2.584464e+09</td>\n      <td>NaN</td>\n      <td>NaN</td>\n      <td>NaN</td>\n      <td>NaN</td>\n      <td>NaN</td>\n      <td>NaN</td>\n    </tr>\n    <tr>\n      <th>1</th>\n      <td>Afghanistan</td>\n      <td>AFG</td>\n      <td>GDP (current US$)</td>\n      <td>NY.GDP.MKTP.CD</td>\n      <td>5.377778e+08</td>\n      <td>5.488889e+08</td>\n      <td>5.466667e+08</td>\n      <td>7.511112e+08</td>\n      <td>8.000000e+08</td>\n      <td>1.006667e+09</td>\n      <td>...</td>\n      <td>1.019053e+10</td>\n      <td>1.248694e+10</td>\n      <td>1.593680e+10</td>\n      <td>1.793024e+10</td>\n      <td>2.053654e+10</td>\n      <td>2.026425e+10</td>\n      <td>2.061610e+10</td>\n      <td>1.921556e+10</td>\n      <td>1.946902e+10</td>\n      <td>2.081530e+10</td>\n    </tr>\n    <tr>\n      <th>2</th>\n      <td>Angola</td>\n      <td>AGO</td>\n      <td>GDP (current US$)</td>\n      <td>NY.GDP.MKTP.CD</td>\n      <td>NaN</td>\n      <td>NaN</td>\n      <td>NaN</td>\n      <td>NaN</td>\n      <td>NaN</td>\n      <td>NaN</td>\n      <td>...</td>\n      <td>8.417804e+10</td>\n      <td>7.549239e+10</td>\n      <td>8.252614e+10</td>\n      <td>1.041158e+11</td>\n      <td>1.139232e+11</td>\n      <td>1.249125e+11</td>\n      <td>1.267302e+11</td>\n      <td>1.026212e+11</td>\n      <td>9.533720e+10</td>\n      <td>1.242094e+11</td>\n    </tr>\n    <tr>\n      <th>3</th>\n      <td>Albania</td>\n      <td>ALB</td>\n      <td>GDP (current US$)</td>\n      <td>NY.GDP.MKTP.CD</td>\n      <td>NaN</td>\n      <td>NaN</td>\n      <td>NaN</td>\n      <td>NaN</td>\n      <td>NaN</td>\n      <td>NaN</td>\n      <td>...</td>\n      <td>1.288135e+10</td>\n      <td>1.204421e+10</td>\n      <td>1.192695e+10</td>\n      <td>1.289087e+10</td>\n      <td>1.231978e+10</td>\n      <td>1.277628e+10</td>\n      <td>1.322824e+10</td>\n      <td>1.138693e+10</td>\n      <td>1.188368e+10</td>\n      <td>1.303935e+10</td>\n    </tr>\n    <tr>\n      <th>4</th>\n      <td>Andorra</td>\n      <td>AND</td>\n      <td>GDP (current US$)</td>\n      <td>NY.GDP.MKTP.CD</td>\n      <td>NaN</td>\n      <td>NaN</td>\n      <td>NaN</td>\n      <td>NaN</td>\n      <td>NaN</td>\n      <td>NaN</td>\n      <td>...</td>\n      <td>4.007353e+09</td>\n      <td>3.660531e+09</td>\n      <td>3.355695e+09</td>\n      <td>3.442063e+09</td>\n      <td>3.164615e+09</td>\n      <td>3.281585e+09</td>\n      <td>3.350736e+09</td>\n      <td>2.811489e+09</td>\n      <td>2.877312e+09</td>\n      <td>3.012914e+09</td>\n    </tr>\n  </tbody>\n</table>\n<p>5 rows × 62 columns</p>\n</div>"
     },
     "execution_count": 7,
     "metadata": {},
     "output_type": "execute_result"
    }
   ],
   "source": [
    "# Removing column Unnamed due to majority null\n",
    "df = df.drop(['Unnamed: 62'], axis=1)\n",
    "df.head()"
   ],
   "metadata": {
    "collapsed": false,
    "pycharm": {
     "name": "#%%\n"
    }
   }
  },
  {
   "cell_type": "code",
   "execution_count": 8,
   "outputs": [],
   "source": [
    "# Created list of columns to keep\n",
    "col_keep = ['Country Name', 'Country Code', 'Indicator Name', 'Indicator Code']"
   ],
   "metadata": {
    "collapsed": false,
    "pycharm": {
     "name": "#%%\n"
    }
   }
  },
  {
   "cell_type": "code",
   "execution_count": 9,
   "outputs": [
    {
     "data": {
      "text/plain": "  Country Name Country Code     Indicator Name  Indicator Code variable  \\\n0        Aruba          ABW  GDP (current US$)  NY.GDP.MKTP.CD     1960   \n1  Afghanistan          AFG  GDP (current US$)  NY.GDP.MKTP.CD     1960   \n2       Angola          AGO  GDP (current US$)  NY.GDP.MKTP.CD     1960   \n3      Albania          ALB  GDP (current US$)  NY.GDP.MKTP.CD     1960   \n4      Andorra          AND  GDP (current US$)  NY.GDP.MKTP.CD     1960   \n\n          value  \n0           NaN  \n1  5.377778e+08  \n2           NaN  \n3           NaN  \n4           NaN  ",
      "text/html": "<div>\n<style scoped>\n    .dataframe tbody tr th:only-of-type {\n        vertical-align: middle;\n    }\n\n    .dataframe tbody tr th {\n        vertical-align: top;\n    }\n\n    .dataframe thead th {\n        text-align: right;\n    }\n</style>\n<table border=\"1\" class=\"dataframe\">\n  <thead>\n    <tr style=\"text-align: right;\">\n      <th></th>\n      <th>Country Name</th>\n      <th>Country Code</th>\n      <th>Indicator Name</th>\n      <th>Indicator Code</th>\n      <th>variable</th>\n      <th>value</th>\n    </tr>\n  </thead>\n  <tbody>\n    <tr>\n      <th>0</th>\n      <td>Aruba</td>\n      <td>ABW</td>\n      <td>GDP (current US$)</td>\n      <td>NY.GDP.MKTP.CD</td>\n      <td>1960</td>\n      <td>NaN</td>\n    </tr>\n    <tr>\n      <th>1</th>\n      <td>Afghanistan</td>\n      <td>AFG</td>\n      <td>GDP (current US$)</td>\n      <td>NY.GDP.MKTP.CD</td>\n      <td>1960</td>\n      <td>5.377778e+08</td>\n    </tr>\n    <tr>\n      <th>2</th>\n      <td>Angola</td>\n      <td>AGO</td>\n      <td>GDP (current US$)</td>\n      <td>NY.GDP.MKTP.CD</td>\n      <td>1960</td>\n      <td>NaN</td>\n    </tr>\n    <tr>\n      <th>3</th>\n      <td>Albania</td>\n      <td>ALB</td>\n      <td>GDP (current US$)</td>\n      <td>NY.GDP.MKTP.CD</td>\n      <td>1960</td>\n      <td>NaN</td>\n    </tr>\n    <tr>\n      <th>4</th>\n      <td>Andorra</td>\n      <td>AND</td>\n      <td>GDP (current US$)</td>\n      <td>NY.GDP.MKTP.CD</td>\n      <td>1960</td>\n      <td>NaN</td>\n    </tr>\n  </tbody>\n</table>\n</div>"
     },
     "execution_count": 9,
     "metadata": {},
     "output_type": "execute_result"
    }
   ],
   "source": [
    "df = pd.melt(df, id_vars = col_keep)\n",
    "df.head()"
   ],
   "metadata": {
    "collapsed": false,
    "pycharm": {
     "name": "#%%\n"
    }
   }
  },
  {
   "cell_type": "code",
   "execution_count": 10,
   "outputs": [
    {
     "data": {
      "text/plain": "  Country Name Country Code     Indicator Name  Indicator Code  Year  \\\n0        Aruba          ABW  GDP (current US$)  NY.GDP.MKTP.CD  1960   \n1  Afghanistan          AFG  GDP (current US$)  NY.GDP.MKTP.CD  1960   \n2       Angola          AGO  GDP (current US$)  NY.GDP.MKTP.CD  1960   \n3      Albania          ALB  GDP (current US$)  NY.GDP.MKTP.CD  1960   \n4      Andorra          AND  GDP (current US$)  NY.GDP.MKTP.CD  1960   \n\n            GDP  \n0           NaN  \n1  5.377778e+08  \n2           NaN  \n3           NaN  \n4           NaN  ",
      "text/html": "<div>\n<style scoped>\n    .dataframe tbody tr th:only-of-type {\n        vertical-align: middle;\n    }\n\n    .dataframe tbody tr th {\n        vertical-align: top;\n    }\n\n    .dataframe thead th {\n        text-align: right;\n    }\n</style>\n<table border=\"1\" class=\"dataframe\">\n  <thead>\n    <tr style=\"text-align: right;\">\n      <th></th>\n      <th>Country Name</th>\n      <th>Country Code</th>\n      <th>Indicator Name</th>\n      <th>Indicator Code</th>\n      <th>Year</th>\n      <th>GDP</th>\n    </tr>\n  </thead>\n  <tbody>\n    <tr>\n      <th>0</th>\n      <td>Aruba</td>\n      <td>ABW</td>\n      <td>GDP (current US$)</td>\n      <td>NY.GDP.MKTP.CD</td>\n      <td>1960</td>\n      <td>NaN</td>\n    </tr>\n    <tr>\n      <th>1</th>\n      <td>Afghanistan</td>\n      <td>AFG</td>\n      <td>GDP (current US$)</td>\n      <td>NY.GDP.MKTP.CD</td>\n      <td>1960</td>\n      <td>5.377778e+08</td>\n    </tr>\n    <tr>\n      <th>2</th>\n      <td>Angola</td>\n      <td>AGO</td>\n      <td>GDP (current US$)</td>\n      <td>NY.GDP.MKTP.CD</td>\n      <td>1960</td>\n      <td>NaN</td>\n    </tr>\n    <tr>\n      <th>3</th>\n      <td>Albania</td>\n      <td>ALB</td>\n      <td>GDP (current US$)</td>\n      <td>NY.GDP.MKTP.CD</td>\n      <td>1960</td>\n      <td>NaN</td>\n    </tr>\n    <tr>\n      <th>4</th>\n      <td>Andorra</td>\n      <td>AND</td>\n      <td>GDP (current US$)</td>\n      <td>NY.GDP.MKTP.CD</td>\n      <td>1960</td>\n      <td>NaN</td>\n    </tr>\n  </tbody>\n</table>\n</div>"
     },
     "execution_count": 10,
     "metadata": {},
     "output_type": "execute_result"
    }
   ],
   "source": [
    "df = df.rename(columns = {'variable':'Year', 'value':'GDP'})\n",
    "df.head()"
   ],
   "metadata": {
    "collapsed": false,
    "pycharm": {
     "name": "#%%\n"
    }
   }
  },
  {
   "cell_type": "code",
   "execution_count": 11,
   "outputs": [],
   "source": [
    "df = df.loc[:,['Country Name', 'Country Code', 'Year', 'GDP']]"
   ],
   "metadata": {
    "collapsed": false,
    "pycharm": {
     "name": "#%%\n"
    }
   }
  },
  {
   "cell_type": "code",
   "execution_count": 12,
   "outputs": [
    {
     "data": {
      "text/plain": "3535"
     },
     "execution_count": 12,
     "metadata": {},
     "output_type": "execute_result"
    }
   ],
   "source": [
    "df['GDP'].isnull().sum()"
   ],
   "metadata": {
    "collapsed": false,
    "pycharm": {
     "name": "#%%\n"
    }
   }
  },
  {
   "cell_type": "code",
   "execution_count": 13,
   "outputs": [
    {
     "data": {
      "text/plain": "(15312, 4)"
     },
     "execution_count": 13,
     "metadata": {},
     "output_type": "execute_result"
    }
   ],
   "source": [
    "df.shape"
   ],
   "metadata": {
    "collapsed": false,
    "pycharm": {
     "name": "#%%\n"
    }
   }
  },
  {
   "cell_type": "code",
   "execution_count": 14,
   "outputs": [
    {
     "data": {
      "text/plain": "Country Name       0\nCountry Code       0\nYear               0\nGDP             3535\ndtype: int64"
     },
     "execution_count": 14,
     "metadata": {},
     "output_type": "execute_result"
    }
   ],
   "source": [
    "df.isnull().sum()"
   ],
   "metadata": {
    "collapsed": false,
    "pycharm": {
     "name": "#%%\n"
    }
   }
  },
  {
   "cell_type": "code",
   "execution_count": 15,
   "outputs": [
    {
     "name": "stdout",
     "output_type": "stream",
     "text": [
      "0.23086468129571577\n"
     ]
    }
   ],
   "source": [
    "print(3535/15312)"
   ],
   "metadata": {
    "collapsed": false,
    "pycharm": {
     "name": "#%%\n"
    }
   }
  },
  {
   "cell_type": "code",
   "execution_count": 16,
   "outputs": [],
   "source": [
    "#df_1 = df\n",
    "df_2 = df"
   ],
   "metadata": {
    "collapsed": false,
    "pycharm": {
     "name": "#%%\n"
    }
   }
  },
  {
   "cell_type": "code",
   "execution_count": 17,
   "outputs": [],
   "source": [
    "# Option 1 to fill null values using interpolate or other method to fill null values, such as mean.\n",
    "# Removed any data remaining will null values that will not provide a GDP or provide an average\n",
    "#df_1['GDP'] = df_1['GDP'].interpolate()\n",
    "#df_1.dropna(inplace=True)"
   ],
   "metadata": {
    "collapsed": false,
    "pycharm": {
     "name": "#%%\n"
    }
   }
  },
  {
   "cell_type": "code",
   "execution_count": 18,
   "outputs": [],
   "source": [
    "#df_1.head()"
   ],
   "metadata": {
    "collapsed": false,
    "pycharm": {
     "name": "#%%\n"
    }
   }
  },
  {
   "cell_type": "code",
   "execution_count": 19,
   "outputs": [],
   "source": [
    "#df_1.shape"
   ],
   "metadata": {
    "collapsed": false,
    "pycharm": {
     "name": "#%%\n"
    }
   }
  },
  {
   "cell_type": "code",
   "execution_count": 20,
   "outputs": [],
   "source": [
    "# Option 2 remove null values completely. Depending on the purpose of the data, this might be more appropriate if using data estimates is not desired.\n",
    "# Could also request data for missing values.\n",
    "df_2.dropna(inplace=True)"
   ],
   "metadata": {
    "collapsed": false,
    "pycharm": {
     "name": "#%%\n"
    }
   }
  },
  {
   "cell_type": "code",
   "execution_count": 21,
   "outputs": [
    {
     "data": {
      "text/plain": "   Country Name Country Code  Year           GDP\n1   Afghanistan          AFG  1960  5.377778e+08\n11    Australia          AUS  1960  1.857319e+10\n12      Austria          AUT  1960  6.592694e+09\n14      Burundi          BDI  1960  1.960000e+08\n15      Belgium          BEL  1960  1.165872e+10",
      "text/html": "<div>\n<style scoped>\n    .dataframe tbody tr th:only-of-type {\n        vertical-align: middle;\n    }\n\n    .dataframe tbody tr th {\n        vertical-align: top;\n    }\n\n    .dataframe thead th {\n        text-align: right;\n    }\n</style>\n<table border=\"1\" class=\"dataframe\">\n  <thead>\n    <tr style=\"text-align: right;\">\n      <th></th>\n      <th>Country Name</th>\n      <th>Country Code</th>\n      <th>Year</th>\n      <th>GDP</th>\n    </tr>\n  </thead>\n  <tbody>\n    <tr>\n      <th>1</th>\n      <td>Afghanistan</td>\n      <td>AFG</td>\n      <td>1960</td>\n      <td>5.377778e+08</td>\n    </tr>\n    <tr>\n      <th>11</th>\n      <td>Australia</td>\n      <td>AUS</td>\n      <td>1960</td>\n      <td>1.857319e+10</td>\n    </tr>\n    <tr>\n      <th>12</th>\n      <td>Austria</td>\n      <td>AUT</td>\n      <td>1960</td>\n      <td>6.592694e+09</td>\n    </tr>\n    <tr>\n      <th>14</th>\n      <td>Burundi</td>\n      <td>BDI</td>\n      <td>1960</td>\n      <td>1.960000e+08</td>\n    </tr>\n    <tr>\n      <th>15</th>\n      <td>Belgium</td>\n      <td>BEL</td>\n      <td>1960</td>\n      <td>1.165872e+10</td>\n    </tr>\n  </tbody>\n</table>\n</div>"
     },
     "execution_count": 21,
     "metadata": {},
     "output_type": "execute_result"
    }
   ],
   "source": [
    "df_2.head()"
   ],
   "metadata": {
    "collapsed": false,
    "pycharm": {
     "name": "#%%\n"
    }
   }
  },
  {
   "cell_type": "code",
   "execution_count": 22,
   "outputs": [
    {
     "data": {
      "text/plain": "(11777, 4)"
     },
     "execution_count": 22,
     "metadata": {},
     "output_type": "execute_result"
    }
   ],
   "source": [
    "df_2.shape"
   ],
   "metadata": {
    "collapsed": false,
    "pycharm": {
     "name": "#%%\n"
    }
   }
  },
  {
   "cell_type": "code",
   "execution_count": 23,
   "outputs": [
    {
     "data": {
      "text/plain": "       Country Name Country Code  Year           GDP\n1       Afghanistan          AFG  1960  5.377778e+08\n11        Australia          AUS  1960  1.857319e+10\n12          Austria          AUT  1960  6.592694e+09\n14          Burundi          BDI  1960  1.960000e+08\n15          Belgium          BEL  1960  1.165872e+10\n...             ...          ...   ...           ...\n15306         Samoa          WSM  2017  8.566265e+08\n15307        Kosovo          XKX  2017  7.128691e+09\n15309  South Africa          ZAF  2017  3.494193e+11\n15310        Zambia          ZMB  2017  2.580867e+10\n15311      Zimbabwe          ZWE  2017  1.784582e+10\n\n[11777 rows x 4 columns]",
      "text/html": "<div>\n<style scoped>\n    .dataframe tbody tr th:only-of-type {\n        vertical-align: middle;\n    }\n\n    .dataframe tbody tr th {\n        vertical-align: top;\n    }\n\n    .dataframe thead th {\n        text-align: right;\n    }\n</style>\n<table border=\"1\" class=\"dataframe\">\n  <thead>\n    <tr style=\"text-align: right;\">\n      <th></th>\n      <th>Country Name</th>\n      <th>Country Code</th>\n      <th>Year</th>\n      <th>GDP</th>\n    </tr>\n  </thead>\n  <tbody>\n    <tr>\n      <th>1</th>\n      <td>Afghanistan</td>\n      <td>AFG</td>\n      <td>1960</td>\n      <td>5.377778e+08</td>\n    </tr>\n    <tr>\n      <th>11</th>\n      <td>Australia</td>\n      <td>AUS</td>\n      <td>1960</td>\n      <td>1.857319e+10</td>\n    </tr>\n    <tr>\n      <th>12</th>\n      <td>Austria</td>\n      <td>AUT</td>\n      <td>1960</td>\n      <td>6.592694e+09</td>\n    </tr>\n    <tr>\n      <th>14</th>\n      <td>Burundi</td>\n      <td>BDI</td>\n      <td>1960</td>\n      <td>1.960000e+08</td>\n    </tr>\n    <tr>\n      <th>15</th>\n      <td>Belgium</td>\n      <td>BEL</td>\n      <td>1960</td>\n      <td>1.165872e+10</td>\n    </tr>\n    <tr>\n      <th>...</th>\n      <td>...</td>\n      <td>...</td>\n      <td>...</td>\n      <td>...</td>\n    </tr>\n    <tr>\n      <th>15306</th>\n      <td>Samoa</td>\n      <td>WSM</td>\n      <td>2017</td>\n      <td>8.566265e+08</td>\n    </tr>\n    <tr>\n      <th>15307</th>\n      <td>Kosovo</td>\n      <td>XKX</td>\n      <td>2017</td>\n      <td>7.128691e+09</td>\n    </tr>\n    <tr>\n      <th>15309</th>\n      <td>South Africa</td>\n      <td>ZAF</td>\n      <td>2017</td>\n      <td>3.494193e+11</td>\n    </tr>\n    <tr>\n      <th>15310</th>\n      <td>Zambia</td>\n      <td>ZMB</td>\n      <td>2017</td>\n      <td>2.580867e+10</td>\n    </tr>\n    <tr>\n      <th>15311</th>\n      <td>Zimbabwe</td>\n      <td>ZWE</td>\n      <td>2017</td>\n      <td>1.784582e+10</td>\n    </tr>\n  </tbody>\n</table>\n<p>11777 rows × 4 columns</p>\n</div>"
     },
     "execution_count": 23,
     "metadata": {},
     "output_type": "execute_result"
    }
   ],
   "source": [
    "df_2"
   ],
   "metadata": {
    "collapsed": false,
    "pycharm": {
     "name": "#%%\n"
    }
   }
  },
  {
   "cell_type": "code",
   "execution_count": 23,
   "outputs": [],
   "source": [],
   "metadata": {
    "collapsed": false,
    "pycharm": {
     "name": "#%%\n"
    }
   }
  }
 ],
 "metadata": {
  "kernelspec": {
   "display_name": "Python 3",
   "language": "python",
   "name": "python3"
  },
  "language_info": {
   "codemirror_mode": {
    "name": "ipython",
    "version": 2
   },
   "file_extension": ".py",
   "mimetype": "text/x-python",
   "name": "python",
   "nbconvert_exporter": "python",
   "pygments_lexer": "ipython2",
   "version": "2.7.6"
  }
 },
 "nbformat": 4,
 "nbformat_minor": 0
}